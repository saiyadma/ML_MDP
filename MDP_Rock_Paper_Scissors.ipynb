{
  "cells": [
    {
      "cell_type": "markdown",
      "metadata": {
        "id": "-5O7__i3Yt2i"
      },
      "source": [
        "# SMALL MDP: Rock Paper  Scissors"
      ]
    },
    {
      "cell_type": "code",
      "execution_count": 1,
      "metadata": {
        "id": "GmzV6RoIYt2m"
      },
      "outputs": [],
      "source": [
        "import numpy as np"
      ]
    },
    {
      "cell_type": "code",
      "execution_count": 2,
      "metadata": {
        "id": "qn0vOQEHYt2n"
      },
      "outputs": [],
      "source": [
        "V = {state: 0 for state in ['rock', 'paper', 'scissors']}\n",
        "threshold = 1e-6\n",
        "converged = False\n",
        "iterations = 0"
      ]
    },
    {
      "cell_type": "markdown",
      "metadata": {
        "id": "ALLAmvDrYt2o"
      },
      "source": [
        "### Value Iteration"
      ]
    },
    {
      "cell_type": "code",
      "execution_count": 5,
      "metadata": {
        "id": "Q0moKyaIYt2p"
      },
      "outputs": [],
      "source": [
        "\n",
        "while not converged:\n",
        "    iterations += 1\n",
        "    max_change = 0\n",
        "    for state in V:\n",
        "        old_value = V[state]\n",
        "        values = []\n",
        "        for action in ['rock', 'paper', 'scissors']:\n",
        "            # Calculate expected value for each action\n",
        "            expected_value = 0\n",
        "            for opponent_action, probability in [('rock', 1/3), ('paper', 1/3), ('scissors', 1/3)]:\n",
        "                if action == opponent_action:\n",
        "                    expected_value += 0\n",
        "                elif (action == 'rock' and opponent_action == 'scissors') or \\\n",
        "                     (action == 'paper' and opponent_action == 'rock') or \\\n",
        "                     (action == 'scissors' and opponent_action == 'paper'):\n",
        "                    expected_value += 1\n",
        "                else:\n",
        "                    expected_value -= 1\n",
        "            values.append(expected_value)\n",
        "        V[state] = max(values)\n",
        "        max_change = max(max_change, abs(old_value - V[state]))\n",
        "    if max_change < threshold:\n",
        "        converged = True"
      ]
    },
    {
      "cell_type": "code",
      "execution_count": 6,
      "metadata": {
        "colab": {
          "base_uri": "https://localhost:8080/"
        },
        "id": "IVC1oyNjYt2q",
        "outputId": "41ad28eb-7f1f-44e0-9c52-cca4a796a9e1"
      },
      "outputs": [
        {
          "output_type": "stream",
          "name": "stdout",
          "text": [
            "Converged after 1 iterations\n",
            "Optimal Values: {'rock': 0, 'paper': 0, 'scissors': 0}\n"
          ]
        }
      ],
      "source": [
        "print(\"Converged after\", iterations, \"iterations\")\n",
        "print(\"Optimal Values:\", V)"
      ]
    },
    {
      "cell_type": "markdown",
      "metadata": {
        "id": "d6P9KXKaYt2r"
      },
      "source": [
        "### Policy Iteration"
      ]
    },
    {
      "cell_type": "code",
      "execution_count": 7,
      "metadata": {
        "id": "F61nHuVjYt2s"
      },
      "outputs": [],
      "source": [
        "V = {state: 0 for state in ['rock', 'paper', 'scissors']}\n",
        "policy = {state: 'rock' for state in ['rock', 'paper', 'scissors']}\n",
        "threshold = 1e-6\n",
        "converged = False\n",
        "iterations = 0\n"
      ]
    },
    {
      "cell_type": "code",
      "execution_count": 8,
      "metadata": {
        "id": "r-HaPBRYYt2t"
      },
      "outputs": [],
      "source": [
        "\n",
        "while not converged:\n",
        "    iterations += 1\n",
        "    # Policy Evaluation\n",
        "    while True:\n",
        "        max_change = 0\n",
        "        for state in V:\n",
        "            old_value = V[state]\n",
        "            action = policy[state]\n",
        "            expected_value = 0\n",
        "            for opponent_action, probability in [('rock', 1/3), ('paper', 1/3), ('scissors', 1/3)]:\n",
        "                if action == opponent_action:\n",
        "                    expected_value += 0\n",
        "                elif (action == 'rock' and opponent_action == 'scissors') or \\\n",
        "                     (action == 'paper' and opponent_action == 'rock') or \\\n",
        "                     (action == 'scissors' and opponent_action == 'paper'):\n",
        "                    expected_value += 1\n",
        "                else:\n",
        "                    expected_value -= 1\n",
        "            V[state] = expected_value\n",
        "            max_change = max(max_change, abs(old_value - V[state]))\n",
        "        if max_change < threshold:\n",
        "            break\n",
        "    # Policy Improvement\n",
        "    policy_stable = True\n",
        "    for state in policy:\n",
        "        old_action = policy[state]\n",
        "        values = []\n",
        "        for action in ['rock', 'paper', 'scissors']:\n",
        "            expected_value = V[state]\n",
        "            values.append((expected_value, action))\n",
        "        best_action = max(values)[1]\n",
        "        policy[state] = best_action\n",
        "        if best_action != old_action:\n",
        "            policy_stable = False\n",
        "    if policy_stable:\n",
        "        converged = True\n"
      ]
    },
    {
      "cell_type": "code",
      "execution_count": 9,
      "metadata": {
        "colab": {
          "base_uri": "https://localhost:8080/"
        },
        "id": "xvPO6_8sYt2u",
        "outputId": "d7710f3e-8bfa-4534-942f-300e6d580a78"
      },
      "outputs": [
        {
          "output_type": "stream",
          "name": "stdout",
          "text": [
            "Converged after 2 iterations\n",
            "Optimal Policy: {'rock': 'scissors', 'paper': 'scissors', 'scissors': 'scissors'}\n"
          ]
        }
      ],
      "source": [
        "\n",
        "print(\"Converged after\", iterations, \"iterations\")\n",
        "print(\"Optimal Policy:\", policy)\n"
      ]
    },
    {
      "cell_type": "code",
      "execution_count": 10,
      "metadata": {
        "colab": {
          "base_uri": "https://localhost:8080/",
          "height": 211
        },
        "id": "qN5-xt7AYt2v",
        "outputId": "6bed27cc-e9bd-41b8-adbe-602c48cfaec7"
      },
      "outputs": [
        {
          "output_type": "error",
          "ename": "TypeError",
          "evalue": "unsupported operand type(s) for *: 'float' and 'NoneType'",
          "traceback": [
            "\u001b[0;31m---------------------------------------------------------------------------\u001b[0m",
            "\u001b[0;31mTypeError\u001b[0m                                 Traceback (most recent call last)",
            "\u001b[0;32m<ipython-input-10-36d7da17d2ab>\u001b[0m in \u001b[0;36m<cell line: 34>\u001b[0;34m()\u001b[0m\n\u001b[1;32m     45\u001b[0m                 \u001b[0mnew_i\u001b[0m \u001b[0;34m=\u001b[0m \u001b[0mmax\u001b[0m\u001b[0;34m(\u001b[0m\u001b[0;36m0\u001b[0m\u001b[0;34m,\u001b[0m \u001b[0mmin\u001b[0m\u001b[0;34m(\u001b[0m\u001b[0mnew_i\u001b[0m\u001b[0;34m,\u001b[0m \u001b[0mNUM_ROWS\u001b[0m \u001b[0;34m-\u001b[0m \u001b[0;36m1\u001b[0m\u001b[0;34m)\u001b[0m\u001b[0;34m)\u001b[0m  \u001b[0;31m# Ensure within grid bounds\u001b[0m\u001b[0;34m\u001b[0m\u001b[0;34m\u001b[0m\u001b[0m\n\u001b[1;32m     46\u001b[0m                 \u001b[0mnew_j\u001b[0m \u001b[0;34m=\u001b[0m \u001b[0mmax\u001b[0m\u001b[0;34m(\u001b[0m\u001b[0;36m0\u001b[0m\u001b[0;34m,\u001b[0m \u001b[0mmin\u001b[0m\u001b[0;34m(\u001b[0m\u001b[0mnew_j\u001b[0m\u001b[0;34m,\u001b[0m \u001b[0mNUM_COLS\u001b[0m \u001b[0;34m-\u001b[0m \u001b[0;36m1\u001b[0m\u001b[0;34m)\u001b[0m\u001b[0;34m)\u001b[0m\u001b[0;34m\u001b[0m\u001b[0;34m\u001b[0m\u001b[0m\n\u001b[0;32m---> 47\u001b[0;31m                 \u001b[0mrewards\u001b[0m\u001b[0;34m[\u001b[0m\u001b[0mi\u001b[0m\u001b[0;34m,\u001b[0m \u001b[0mj\u001b[0m\u001b[0;34m]\u001b[0m \u001b[0;34m=\u001b[0m \u001b[0mrewards\u001b[0m\u001b[0;34m[\u001b[0m\u001b[0mi\u001b[0m\u001b[0;34m,\u001b[0m \u001b[0mj\u001b[0m\u001b[0;34m]\u001b[0m \u001b[0;34m+\u001b[0m \u001b[0mdiscount_factor\u001b[0m \u001b[0;34m*\u001b[0m \u001b[0mrewards\u001b[0m\u001b[0;34m[\u001b[0m\u001b[0mnew_i\u001b[0m\u001b[0;34m,\u001b[0m \u001b[0mnew_j\u001b[0m\u001b[0;34m]\u001b[0m\u001b[0;34m\u001b[0m\u001b[0;34m\u001b[0m\u001b[0m\n\u001b[0m\u001b[1;32m     48\u001b[0m                 \u001b[0mdelta\u001b[0m \u001b[0;34m=\u001b[0m \u001b[0mmax\u001b[0m\u001b[0;34m(\u001b[0m\u001b[0mdelta\u001b[0m\u001b[0;34m,\u001b[0m \u001b[0mabs\u001b[0m\u001b[0;34m(\u001b[0m\u001b[0mold_value\u001b[0m \u001b[0;34m-\u001b[0m \u001b[0mrewards\u001b[0m\u001b[0;34m[\u001b[0m\u001b[0mi\u001b[0m\u001b[0;34m,\u001b[0m \u001b[0mj\u001b[0m\u001b[0;34m]\u001b[0m\u001b[0;34m)\u001b[0m\u001b[0;34m)\u001b[0m\u001b[0;34m\u001b[0m\u001b[0;34m\u001b[0m\u001b[0m\n\u001b[1;32m     49\u001b[0m         \u001b[0;32mif\u001b[0m \u001b[0mdelta\u001b[0m \u001b[0;34m<\u001b[0m \u001b[0mthreshold\u001b[0m\u001b[0;34m:\u001b[0m\u001b[0;34m\u001b[0m\u001b[0;34m\u001b[0m\u001b[0m\n",
            "\u001b[0;31mTypeError\u001b[0m: unsupported operand type(s) for *: 'float' and 'NoneType'"
          ]
        }
      ],
      "source": [
        "import numpy as np\n",
        "\n",
        "# Define constants for the grid world\n",
        "NUM_ROWS = 3\n",
        "NUM_COLS = 4\n",
        "NUM_ACTIONS = 4  # Up, Down, Left, Right\n",
        "NUM_STATES = NUM_ROWS * NUM_COLS\n",
        "\n",
        "# Define rewards for each state\n",
        "rewards = np.array([\n",
        "    [-0.04, -0.04, -0.04, +1],\n",
        "    [-0.04, None, -0.04, -1],\n",
        "    [-0.04, -0.04, -0.04, -0.04]\n",
        "])\n",
        "\n",
        "# Define actions (Up, Down, Left, Right)\n",
        "actions = {\n",
        "    0: (-1, 0),  # Up\n",
        "    1: (1, 0),   # Down\n",
        "    2: (0, -1),  # Left\n",
        "    3: (0, 1)    # Right\n",
        "}\n",
        "\n",
        "# Define the policy (arbitrarily chosen initially)\n",
        "policy = np.random.randint(0, NUM_ACTIONS, size=(NUM_ROWS, NUM_COLS))\n",
        "\n",
        "# Define discount factor\n",
        "discount_factor = 0.99\n",
        "\n",
        "# Define convergence threshold\n",
        "threshold = 1e-6\n",
        "\n",
        "# Policy iteration\n",
        "while True:\n",
        "    # Policy evaluation\n",
        "    while True:\n",
        "        delta = 0\n",
        "        for i in range(NUM_ROWS):\n",
        "            for j in range(NUM_COLS):\n",
        "                if rewards[i, j] is None:\n",
        "                    continue  # Skip obstacle states\n",
        "                old_value = rewards[i, j]\n",
        "                action = actions[policy[i, j]]\n",
        "                new_i, new_j = i + action[0], j + action[1]\n",
        "                new_i = max(0, min(new_i, NUM_ROWS - 1))  # Ensure within grid bounds\n",
        "                new_j = max(0, min(new_j, NUM_COLS - 1))\n",
        "                rewards[i, j] = rewards[i, j] + discount_factor * rewards[new_i, new_j]\n",
        "                delta = max(delta, abs(old_value - rewards[i, j]))\n",
        "        if delta < threshold:\n",
        "            break\n",
        "\n",
        "    # Policy improvement\n",
        "    policy_stable = True\n",
        "    for i in range(NUM_ROWS):\n",
        "        for j in range(NUM_COLS):\n",
        "            if rewards[i, j] is None:\n",
        "                continue  # Skip obstacle states\n",
        "            old_action = policy[i, j]\n",
        "            best_action = None\n",
        "            best_value = float('-inf')\n",
        "            for a in range(NUM_ACTIONS):\n",
        "                action = actions[a]\n",
        "                new_i, new_j = i + action[0], j + action[1]\n",
        "                new_i = max(0, min(new_i, NUM_ROWS - 1))  # Ensure within grid bounds\n",
        "                new_j = max(0, min(new_j, NUM_COLS - 1))\n",
        "                if rewards[new_i, new_j] > best_value:\n",
        "                    best_value = rewards[new_i, new_j]\n",
        "                    best_action = a\n",
        "            policy[i, j] = best_action\n",
        "            if old_action != best_action:\n",
        "                policy_stable = False\n",
        "    if policy_stable:\n",
        "        break\n",
        "\n",
        "# Print the final policy\n",
        "print(\"Final Policy:\")\n",
        "print(policy)\n",
        "\n"
      ]
    },
    {
      "cell_type": "code",
      "execution_count": 11,
      "metadata": {
        "colab": {
          "base_uri": "https://localhost:8080/"
        },
        "id": "y-JdcmLVYt2w",
        "outputId": "8362158e-068f-4d01-c45a-b07d931a2b13"
      },
      "outputs": [
        {
          "output_type": "stream",
          "name": "stdout",
          "text": [
            "Policy iteration converged after 2 iterations.\n",
            "Final Policy:\n",
            "['S', 'R', 'P']\n"
          ]
        }
      ],
      "source": [
        "import numpy as np\n",
        "\n",
        "# Define constants\n",
        "NUM_STATES = 3  # Opponent's last move: Rock, Paper, Scissors\n",
        "NUM_ACTIONS = 3  # Your move: Rock, Paper, Scissors\n",
        "pr_eval = True\n",
        "pr_iter =True\n",
        "# Define rewards (Win: +1, Lose: -1, Draw: 0)\n",
        "rewards = np.array([\n",
        "    [0, -1, 1],  # Opponent's last move was Rock\n",
        "    [1, 0, -1],  # Opponent's last move was Paper\n",
        "    [-1, 1, 0]   # Opponent's last move was Scissors\n",
        "])\n",
        "\n",
        "# Define the policy (arbitrarily chosen initially)\n",
        "policy = np.random.randint(0, NUM_ACTIONS, size=NUM_STATES)\n",
        "\n",
        "# Define discount factor\n",
        "discount_factor = 1.0  # No discounting for this game\n",
        "\n",
        "# Define convergence threshold\n",
        "threshold = 1e-6\n",
        "\n",
        "# Maximum number of iterations\n",
        "max_iterations = 1000\n",
        "\n",
        "# Policy iteration\n",
        "total_iter = []\n",
        "Values = []\n",
        "for iteration in range(max_iterations):\n",
        "    # Policy evaluation\n",
        "    delta = 0\n",
        "    for state in range(NUM_STATES):\n",
        "        old_value = rewards[state, policy[state]]\n",
        "        reward = rewards[state, policy[state]]\n",
        "        delta = max(delta, abs(old_value - reward))\n",
        "\n",
        "    if delta < threshold and pr_eval:\n",
        "        #print(f\"Policy evaluation converged after {iteration + 1} iterations.\")\n",
        "        pr_eval = False\n",
        "\n",
        "    # Policy improvement\n",
        "    policy_stable = True\n",
        "    for state in range(NUM_STATES):\n",
        "        old_action = policy[state]\n",
        "        best_action = np.argmax(rewards[state])\n",
        "        policy[state] = best_action\n",
        "        if old_action != best_action:\n",
        "            policy_stable = False\n",
        "    total_iter.append(iteration)\n",
        "    Values.append(rewards[state, policy[state]])\n",
        "    # Check convergence\n",
        "    if policy_stable and pr_iter:\n",
        "        print(f\"Policy iteration converged after {iteration + 1} iterations.\")\n",
        "        pr_iter = False\n",
        "    elif iteration == max_iterations - 1:\n",
        "        print(\"Maximum iterations reached without convergence.\")\n",
        "    if delta < threshold and policy_stable:\n",
        "        break\n",
        "# Print the final policy\n",
        "actions_mapping = {0: 'R', 1: 'P', 2: 'S'}\n",
        "final_policy = [actions_mapping[action] for action in policy]\n",
        "print(\"Final Policy:\")\n",
        "policy_iteration_policy = final_policy\n",
        "print(final_policy)\n"
      ]
    },
    {
      "cell_type": "code",
      "execution_count": 12,
      "metadata": {
        "colab": {
          "base_uri": "https://localhost:8080/"
        },
        "id": "SybTLtS3Yt2x",
        "outputId": "6a7c7283-e33d-4d11-e5e8-77b8eab36de2"
      },
      "outputs": [
        {
          "output_type": "stream",
          "name": "stdout",
          "text": [
            "Optimal Value Function:\n",
            "[2998. 2999. 3000.]\n",
            "Optimal Policy:\n",
            "['S', 'R', 'P']\n"
          ]
        }
      ],
      "source": [
        "import numpy as np\n",
        "\n",
        "# Define constants\n",
        "NUM_STATES = 3  # Opponent's last move: Rock, Paper, Scissors\n",
        "NUM_ACTIONS = 3  # Your move: Rock, Paper, Scissors\n",
        "\n",
        "# Define rewards (Win: +1, Lose: -1, Draw: 0)\n",
        "rewards = np.array([\n",
        "    [0, -1, 1],  # Opponent's last move was Rock\n",
        "    [1, 0, -1],  # Opponent's last move was Paper\n",
        "    [-1, 1, 0]   # Opponent's last move was Scissors\n",
        "])\n",
        "\n",
        "# Define discount factor\n",
        "discount_factor = 1.0  # No discounting for this game\n",
        "\n",
        "# Initialize value function\n",
        "V = np.zeros(NUM_STATES)\n",
        "\n",
        "# Convergence threshold\n",
        "threshold = 1e-6\n",
        "\n",
        "# Maximum number of iterations\n",
        "max_iterations = 1000\n",
        "delta_over_iter=[]\n",
        "iters= []\n",
        "# Value iteration\n",
        "for iteration in range(max_iterations):\n",
        "    delta = 0\n",
        "    for state in range(NUM_STATES):\n",
        "        old_value = V[state]\n",
        "\n",
        "        # Compute the value for each action\n",
        "        action_values = [rewards[state, next_state] + discount_factor * V[next_state] for next_state in range(NUM_STATES)]\n",
        "\n",
        "        # Update the value function with the maximum value\n",
        "        V[state] = max(action_values)\n",
        "\n",
        "        delta = max(delta, abs(old_value - V[state]))\n",
        "    delta_over_iter.append(delta)\n",
        "    iters.append(iteration)\n",
        "    if delta < threshold:\n",
        "        print(f\"Value iteration converged after {iteration + 1} iterations.\")\n",
        "        break\n",
        "\n",
        "# Derive optimal policy from the optimal value function\n",
        "policy = np.zeros(NUM_STATES, dtype=int)\n",
        "for state in range(NUM_STATES):\n",
        "    action_values = [rewards[state, next_state] + discount_factor * V[next_state] for next_state in range(NUM_STATES)]\n",
        "    policy[state] = np.argmax(action_values)\n",
        "\n",
        "# Print the optimal value function and policy\n",
        "print(\"Optimal Value Function:\")\n",
        "print(V)\n",
        "print(\"Optimal Policy:\")\n",
        "actions_mapping = {0: 'R', 1: 'P', 2: 'S'}\n",
        "final_policy = [actions_mapping[action] for action in policy]\n",
        "value_iteration_policy = final_policy\n",
        "print(final_policy)\n"
      ]
    },
    {
      "cell_type": "code",
      "execution_count": 13,
      "metadata": {
        "colab": {
          "base_uri": "https://localhost:8080/",
          "height": 598
        },
        "id": "Ds6zOpFpYt2z",
        "outputId": "b9daeaf9-79e1-4683-ce80-63670f902f7e"
      },
      "outputs": [
        {
          "output_type": "display_data",
          "data": {
            "text/plain": [
              "<Figure size 1600x800 with 4 Axes>"
            ],
            "image/png": "[encoded data removed]"
          },
          "metadata": {}
        }
      ],
      "source": [
        "import numpy as np\n",
        "import matplotlib.pyplot as plt\n",
        "\n",
        "# Sample optimal policies from Policy Iteration and Value Iteration\n",
        "# Replace these with your actual optimal policies\n",
        "policy_iteration_policy = np.array([[0, 1, -1], [-1, 0, 1], [1, -1, 0]])\n",
        "value_iteration_policy = np.array([[0, 1, -1], [-1, 0, 1], [1, -1, 0]])\n",
        "\n",
        "# Determine xticks and yticks placement based on the shape of the policy_iteration_policy array\n",
        "xticks_placement = np.linspace(0, policy_iteration_policy.shape[1] - 1, policy_iteration_policy.shape[1], dtype=int)\n",
        "yticks_placement = np.linspace(0, policy_iteration_policy.shape[0] - 1, policy_iteration_policy.shape[0], dtype=int)\n",
        "\n",
        "# Create a color map for policies\n",
        "cmap = plt.get_cmap('tab10', 3)  # Assuming 3 actions (0, 1, 2)\n",
        "\n",
        "# Comparison Plot\n",
        "plt.figure(figsize=(16, 8))\n",
        "\n",
        "# Policy Iteration\n",
        "plt.subplot(1, 2, 1)\n",
        "plt.imshow(policy_iteration_policy, cmap=cmap, interpolation='nearest', vmin=-1, vmax=1)\n",
        "plt.colorbar(ticks=[-1, 0, 1], label='Action')\n",
        "plt.title('Policy Iteration Policy')\n",
        "plt.xlabel('Opponent\\'s Move')\n",
        "plt.ylabel('Your Move')\n",
        "plt.xticks(xticks_placement, labels=['Rock', 'Paper', 'Scissors'])\n",
        "plt.yticks(yticks_placement, labels=['Rock', 'Paper', 'Scissors'])\n",
        "plt.grid(False)\n",
        "\n",
        "# Value Iteration\n",
        "plt.subplot(1, 2, 2)\n",
        "plt.imshow(value_iteration_policy, cmap=cmap, interpolation='nearest', vmin=-1, vmax=1)\n",
        "plt.colorbar(ticks=[-1, 0, 1], label='Action')\n",
        "plt.title('Value Iteration Policy')\n",
        "plt.xlabel('Opponent\\'s Move')\n",
        "plt.ylabel('Your Move')\n",
        "plt.xticks(xticks_placement, labels=['Rock', 'Paper', 'Scissors'])\n",
        "plt.yticks(yticks_placement, labels=['Rock', 'Paper', 'Scissors'])\n",
        "plt.grid(False)\n",
        "\n",
        "plt.tight_layout()\n",
        "plt.show()\n"
      ]
    },
    {
      "cell_type": "code",
      "execution_count": null,
      "metadata": {
        "id": "765vbH1bYt20",
        "outputId": "18cde7cf-09eb-4afe-bd5a-10d41bd6e997"
      },
      "outputs": [
        {
          "data": {
            "image/png": "[encoded data removed]",
            "text/plain": [
              "<Figure size 432x288 with 1 Axes>"
            ]
          },
          "metadata": {
            "needs_background": "light"
          },
          "output_type": "display_data"
        }
      ],
      "source": [
        "\n",
        "plt.plot( iters,delta_over_iter, marker='o')\n",
        "plt.title('Convergence of Value Iteration')\n",
        "plt.xlabel('Number of Iterations')\n",
        "plt.ylabel('Optimal Value')\n",
        "plt.grid(True)\n",
        "plt.show()\n"
      ]
    },
    {
      "cell_type": "code",
      "execution_count": null,
      "metadata": {
        "id": "h_MjTqpuYt20",
        "outputId": "a0a34634-6dd4-4159-b20e-d0a795b609f1"
      },
      "outputs": [
        {
          "data": {
            "image/png": "[encoded data removed]",
            "text/plain": [
              "<Figure size 720x432 with 1 Axes>"
            ]
          },
          "metadata": {
            "needs_background": "light"
          },
          "output_type": "display_data"
        }
      ],
      "source": [
        "\n",
        "\n",
        "\n",
        "# Convergence Plot for Value Iteration\n",
        "\n",
        "plt.figure(figsize=(10, 6))\n",
        "plt.plot(total_iter, Values, marker='o')\n",
        "plt.title('Delta Value of Policy Iteration')\n",
        "plt.xlabel('Number of Iterations')\n",
        "plt.ylabel('Delta Value')\n",
        "plt.show()\n"
      ]
    },
    {
      "cell_type": "code",
      "execution_count": null,
      "metadata": {
        "id": "kcolPf_WYt21"
      },
      "outputs": [],
      "source": [
        "! pip install numpy>=1.20"
      ]
    },
    {
      "cell_type": "code",
      "source": [],
      "metadata": {
        "id": "S8AoCPQkhrXH"
      },
      "execution_count": null,
      "outputs": []
    },
    {
      "cell_type": "code",
      "execution_count": 15,
      "metadata": {
        "colab": {
          "base_uri": "https://localhost:8080/"
        },
        "id": "n16ifBV3Yt21",
        "outputId": "ec5a4a65-16d5-47cc-e8bd-89bb935a15e5"
      },
      "outputs": [
        {
          "output_type": "stream",
          "name": "stdout",
          "text": [
            "Collecting stable_baselines3\n",
            "  Downloading stable_baselines3-2.3.0-py3-none-any.whl (182 kB)\n",
            "\u001b[?25l     \u001b[90m━━━━━━━━━━━━━━━━━━━━━━━━━━━━━━━━━━━━━━━━\u001b[0m \u001b[32m0.0/182.1 kB\u001b[0m \u001b[31m?\u001b[0m eta \u001b[36m-:--:--\u001b[0m\r\u001b[2K     \u001b[91m━━━━━━━━━━━━━━━━━━━━━━━━━━━━━━━━━━━━━━\u001b[0m\u001b[90m╺\u001b[0m\u001b[90m━\u001b[0m \u001b[32m174.1/182.1 kB\u001b[0m \u001b[31m5.3 MB/s\u001b[0m eta \u001b[36m0:00:01\u001b[0m\r\u001b[2K     \u001b[90m━━━━━━━━━━━━━━━━━━━━━━━━━━━━━━━━━━━━━━━━\u001b[0m \u001b[32m182.1/182.1 kB\u001b[0m \u001b[31m4.4 MB/s\u001b[0m eta \u001b[36m0:00:00\u001b[0m\n",
            "\u001b[?25hCollecting gymnasium<0.30,>=0.28.1 (from stable_baselines3)\n",
            "  Downloading gymnasium-0.29.1-py3-none-any.whl (953 kB)\n",
            "\u001b[2K     \u001b[90m━━━━━━━━━━━━━━━━━━━━━━━━━━━━━━━━━━━━━━━━\u001b[0m \u001b[32m953.9/953.9 kB\u001b[0m \u001b[31m12.5 MB/s\u001b[0m eta \u001b[36m0:00:00\u001b[0m\n",
            "\u001b[?25hRequirement already satisfied: numpy>=1.20 in /usr/local/lib/python3.10/dist-packages (from stable_baselines3) (1.25.2)\n",
            "Requirement already satisfied: torch>=1.13 in /usr/local/lib/python3.10/dist-packages (from stable_baselines3) (2.2.1+cu121)\n",
            "Requirement already satisfied: cloudpickle in /usr/local/lib/python3.10/dist-packages (from stable_baselines3) (2.2.1)\n",
            "Requirement already satisfied: pandas in /usr/local/lib/python3.10/dist-packages (from stable_baselines3) (2.0.3)\n",
            "Requirement already satisfied: matplotlib in /usr/local/lib/python3.10/dist-packages (from stable_baselines3) (3.7.1)\n",
            "Requirement already satisfied: typing-extensions>=4.3.0 in /usr/local/lib/python3.10/dist-packages (from gymnasium<0.30,>=0.28.1->stable_baselines3) (4.11.0)\n",
            "Collecting farama-notifications>=0.0.1 (from gymnasium<0.30,>=0.28.1->stable_baselines3)\n",
            "  Downloading Farama_Notifications-0.0.4-py3-none-any.whl (2.5 kB)\n",
            "Requirement already satisfied: filelock in /usr/local/lib/python3.10/dist-packages (from torch>=1.13->stable_baselines3) (3.13.4)\n",
            "Requirement already satisfied: sympy in /usr/local/lib/python3.10/dist-packages (from torch>=1.13->stable_baselines3) (1.12)\n",
            "Requirement already satisfied: networkx in /usr/local/lib/python3.10/dist-packages (from torch>=1.13->stable_baselines3) (3.3)\n",
            "Requirement already satisfied: jinja2 in /usr/local/lib/python3.10/dist-packages (from torch>=1.13->stable_baselines3) (3.1.3)\n",
            "Requirement already satisfied: fsspec in /usr/local/lib/python3.10/dist-packages (from torch>=1.13->stable_baselines3) (2023.6.0)\n",
            "Collecting nvidia-cuda-nvrtc-cu12==12.1.105 (from torch>=1.13->stable_baselines3)\n",
            "  Using cached nvidia_cuda_nvrtc_cu12-12.1.105-py3-none-manylinux1_x86_64.whl (23.7 MB)\n",
            "Collecting nvidia-cuda-runtime-cu12==12.1.105 (from torch>=1.13->stable_baselines3)\n",
            "  Using cached nvidia_cuda_runtime_cu12-12.1.105-py3-none-manylinux1_x86_64.whl (823 kB)\n",
            "Collecting nvidia-cuda-cupti-cu12==12.1.105 (from torch>=1.13->stable_baselines3)\n",
            "  Using cached nvidia_cuda_cupti_cu12-12.1.105-py3-none-manylinux1_x86_64.whl (14.1 MB)\n",
            "Collecting nvidia-cudnn-cu12==8.9.2.26 (from torch>=1.13->stable_baselines3)\n",
            "  Using cached nvidia_cudnn_cu12-8.9.2.26-py3-none-manylinux1_x86_64.whl (731.7 MB)\n",
            "Collecting nvidia-cublas-cu12==12.1.3.1 (from torch>=1.13->stable_baselines3)\n",
            "  Using cached nvidia_cublas_cu12-12.1.3.1-py3-none-manylinux1_x86_64.whl (410.6 MB)\n",
            "Collecting nvidia-cufft-cu12==11.0.2.54 (from torch>=1.13->stable_baselines3)\n",
            "  Using cached nvidia_cufft_cu12-11.0.2.54-py3-none-manylinux1_x86_64.whl (121.6 MB)\n",
            "Collecting nvidia-curand-cu12==10.3.2.106 (from torch>=1.13->stable_baselines3)\n",
            "  Using cached nvidia_curand_cu12-10.3.2.106-py3-none-manylinux1_x86_64.whl (56.5 MB)\n",
            "Collecting nvidia-cusolver-cu12==11.4.5.107 (from torch>=1.13->stable_baselines3)\n",
            "  Using cached nvidia_cusolver_cu12-11.4.5.107-py3-none-manylinux1_x86_64.whl (124.2 MB)\n",
            "Collecting nvidia-cusparse-cu12==12.1.0.106 (from torch>=1.13->stable_baselines3)\n",
            "  Using cached nvidia_cusparse_cu12-12.1.0.106-py3-none-manylinux1_x86_64.whl (196.0 MB)\n",
            "Collecting nvidia-nccl-cu12==2.19.3 (from torch>=1.13->stable_baselines3)\n",
            "  Using cached nvidia_nccl_cu12-2.19.3-py3-none-manylinux1_x86_64.whl (166.0 MB)\n",
            "Collecting nvidia-nvtx-cu12==12.1.105 (from torch>=1.13->stable_baselines3)\n",
            "  Using cached nvidia_nvtx_cu12-12.1.105-py3-none-manylinux1_x86_64.whl (99 kB)\n",
            "Requirement already satisfied: triton==2.2.0 in /usr/local/lib/python3.10/dist-packages (from torch>=1.13->stable_baselines3) (2.2.0)\n",
            "Collecting nvidia-nvjitlink-cu12 (from nvidia-cusolver-cu12==11.4.5.107->torch>=1.13->stable_baselines3)\n",
            "  Using cached nvidia_nvjitlink_cu12-12.4.127-py3-none-manylinux2014_x86_64.whl (21.1 MB)\n",
            "Requirement already satisfied: contourpy>=1.0.1 in /usr/local/lib/python3.10/dist-packages (from matplotlib->stable_baselines3) (1.2.1)\n",
            "Requirement already satisfied: cycler>=0.10 in /usr/local/lib/python3.10/dist-packages (from matplotlib->stable_baselines3) (0.12.1)\n",
            "Requirement already satisfied: fonttools>=4.22.0 in /usr/local/lib/python3.10/dist-packages (from matplotlib->stable_baselines3) (4.51.0)\n",
            "Requirement already satisfied: kiwisolver>=1.0.1 in /usr/local/lib/python3.10/dist-packages (from matplotlib->stable_baselines3) (1.4.5)\n",
            "Requirement already satisfied: packaging>=20.0 in /usr/local/lib/python3.10/dist-packages (from matplotlib->stable_baselines3) (24.0)\n",
            "Requirement already satisfied: pillow>=6.2.0 in /usr/local/lib/python3.10/dist-packages (from matplotlib->stable_baselines3) (9.4.0)\n",
            "Requirement already satisfied: pyparsing>=2.3.1 in /usr/local/lib/python3.10/dist-packages (from matplotlib->stable_baselines3) (3.1.2)\n",
            "Requirement already satisfied: python-dateutil>=2.7 in /usr/local/lib/python3.10/dist-packages (from matplotlib->stable_baselines3) (2.8.2)\n",
            "Requirement already satisfied: pytz>=2020.1 in /usr/local/lib/python3.10/dist-packages (from pandas->stable_baselines3) (2023.4)\n",
            "Requirement already satisfied: tzdata>=2022.1 in /usr/local/lib/python3.10/dist-packages (from pandas->stable_baselines3) (2024.1)\n",
            "Requirement already satisfied: six>=1.5 in /usr/local/lib/python3.10/dist-packages (from python-dateutil>=2.7->matplotlib->stable_baselines3) (1.16.0)\n",
            "Requirement already satisfied: MarkupSafe>=2.0 in /usr/local/lib/python3.10/dist-packages (from jinja2->torch>=1.13->stable_baselines3) (2.1.5)\n",
            "Requirement already satisfied: mpmath>=0.19 in /usr/local/lib/python3.10/dist-packages (from sympy->torch>=1.13->stable_baselines3) (1.3.0)\n",
            "Installing collected packages: farama-notifications, nvidia-nvtx-cu12, nvidia-nvjitlink-cu12, nvidia-nccl-cu12, nvidia-curand-cu12, nvidia-cufft-cu12, nvidia-cuda-runtime-cu12, nvidia-cuda-nvrtc-cu12, nvidia-cuda-cupti-cu12, nvidia-cublas-cu12, gymnasium, nvidia-cusparse-cu12, nvidia-cudnn-cu12, nvidia-cusolver-cu12, stable_baselines3\n",
            "Successfully installed farama-notifications-0.0.4 gymnasium-0.29.1 nvidia-cublas-cu12-12.1.3.1 nvidia-cuda-cupti-cu12-12.1.105 nvidia-cuda-nvrtc-cu12-12.1.105 nvidia-cuda-runtime-cu12-12.1.105 nvidia-cudnn-cu12-8.9.2.26 nvidia-cufft-cu12-11.0.2.54 nvidia-curand-cu12-10.3.2.106 nvidia-cusolver-cu12-11.4.5.107 nvidia-cusparse-cu12-12.1.0.106 nvidia-nccl-cu12-2.19.3 nvidia-nvjitlink-cu12-12.4.127 nvidia-nvtx-cu12-12.1.105 stable_baselines3-2.3.0\n"
          ]
        }
      ],
      "source": [
        "!pip install stable_baselines3"
      ]
    },
    {
      "cell_type": "code",
      "execution_count": 20,
      "metadata": {
        "colab": {
          "base_uri": "https://localhost:8080/"
        },
        "id": "s8Hwt_2UYt22",
        "outputId": "68bffb29-c640-4e7d-c718-f7ab5c287364"
      },
      "outputs": [
        {
          "output_type": "stream",
          "name": "stdout",
          "text": [
            "Using cpu device\n",
            "Wrapping the env with a `Monitor` wrapper\n",
            "Wrapping the env in a DummyVecEnv.\n"
          ]
        },
        {
          "output_type": "stream",
          "name": "stderr",
          "text": [
            "/usr/local/lib/python3.10/dist-packages/stable_baselines3/common/vec_env/patch_gym.py:49: UserWarning: You provided an OpenAI Gym environment. We strongly recommend transitioning to Gymnasium environments. Stable-Baselines3 is automatically wrapping your environments in a compatibility layer, which could potentially cause issues.\n",
            "  warnings.warn(\n"
          ]
        },
        {
          "output_type": "stream",
          "name": "stdout",
          "text": [
            "-----------------------------\n",
            "| time/              |      |\n",
            "|    fps             | 354  |\n",
            "|    iterations      | 1    |\n",
            "|    time_elapsed    | 5    |\n",
            "|    total_timesteps | 2048 |\n",
            "-----------------------------\n",
            "-----------------------------------------\n",
            "| time/                   |             |\n",
            "|    fps                  | 319         |\n",
            "|    iterations           | 2           |\n",
            "|    time_elapsed         | 12          |\n",
            "|    total_timesteps      | 4096        |\n",
            "| train/                  |             |\n",
            "|    approx_kl            | 0.013917791 |\n",
            "|    clip_fraction        | 0.35        |\n",
            "|    clip_range           | 0.2         |\n",
            "|    entropy_loss         | -1.09       |\n",
            "|    explained_variance   | -0.00396    |\n",
            "|    learning_rate        | 0.0003      |\n",
            "|    loss                 | 2.94        |\n",
            "|    n_updates            | 10          |\n",
            "|    policy_gradient_loss | -0.0475     |\n",
            "|    value_loss           | 4.47        |\n",
            "-----------------------------------------\n",
            "-----------------------------------------\n",
            "| time/                   |             |\n",
            "|    fps                  | 302         |\n",
            "|    iterations           | 3           |\n",
            "|    time_elapsed         | 20          |\n",
            "|    total_timesteps      | 6144        |\n",
            "| train/                  |             |\n",
            "|    approx_kl            | 0.014861544 |\n",
            "|    clip_fraction        | 0.319       |\n",
            "|    clip_range           | 0.2         |\n",
            "|    entropy_loss         | -1.05       |\n",
            "|    explained_variance   | 0.000657    |\n",
            "|    learning_rate        | 0.0003      |\n",
            "|    loss                 | 2.62        |\n",
            "|    n_updates            | 20          |\n",
            "|    policy_gradient_loss | -0.0425     |\n",
            "|    value_loss           | 6.18        |\n",
            "-----------------------------------------\n",
            "-----------------------------------------\n",
            "| time/                   |             |\n",
            "|    fps                  | 345         |\n",
            "|    iterations           | 4           |\n",
            "|    time_elapsed         | 23          |\n",
            "|    total_timesteps      | 8192        |\n",
            "| train/                  |             |\n",
            "|    approx_kl            | 0.019934561 |\n",
            "|    clip_fraction        | 0.301       |\n",
            "|    clip_range           | 0.2         |\n",
            "|    entropy_loss         | -0.99       |\n",
            "|    explained_variance   | -0.000607   |\n",
            "|    learning_rate        | 0.0003      |\n",
            "|    loss                 | 3.28        |\n",
            "|    n_updates            | 30          |\n",
            "|    policy_gradient_loss | -0.0377     |\n",
            "|    value_loss           | 9.69        |\n",
            "-----------------------------------------\n",
            "-----------------------------------------\n",
            "| time/                   |             |\n",
            "|    fps                  | 382         |\n",
            "|    iterations           | 5           |\n",
            "|    time_elapsed         | 26          |\n",
            "|    total_timesteps      | 10240       |\n",
            "| train/                  |             |\n",
            "|    approx_kl            | 0.030935928 |\n",
            "|    clip_fraction        | 0.216       |\n",
            "|    clip_range           | 0.2         |\n",
            "|    entropy_loss         | -0.881      |\n",
            "|    explained_variance   | -0.00121    |\n",
            "|    learning_rate        | 0.0003      |\n",
            "|    loss                 | 2.98        |\n",
            "|    n_updates            | 40          |\n",
            "|    policy_gradient_loss | -0.0333     |\n",
            "|    value_loss           | 11.1        |\n",
            "-----------------------------------------\n",
            "Action: 0, Reward: 0, Done: False, Info: {}\n",
            "Action: 1, Reward: 1, Done: False, Info: {}\n",
            "Action: 0, Reward: 1, Done: False, Info: {}\n",
            "Action: 2, Reward: -1, Done: False, Info: {}\n",
            "Action: 0, Reward: 0, Done: False, Info: {}\n",
            "Action: 0, Reward: 1, Done: False, Info: {}\n",
            "Action: 1, Reward: 1, Done: False, Info: {}\n",
            "Action: 1, Reward: -1, Done: False, Info: {}\n",
            "Action: 2, Reward: 1, Done: False, Info: {}\n",
            "Action: 2, Reward: 1, Done: False, Info: {}\n"
          ]
        }
      ],
      "source": [
        "import gym\n",
        "from gym import spaces\n",
        "import numpy as np\n",
        "from stable_baselines3 import PPO\n",
        "\n",
        "class RockPaperScissorsEnv(gym.Env):\n",
        "    def __init__(self):\n",
        "        super(RockPaperScissorsEnv, self).__init__()\n",
        "        self.action_space = spaces.Discrete(3)  # rock, paper, scissors\n",
        "        self.observation_space = spaces.Discrete(3)  # rock, paper, scissors\n",
        "        self.state = None\n",
        "\n",
        "    def reset(self):\n",
        "        self.state = np.random.randint(3)\n",
        "        return self.state\n",
        "\n",
        "    def step(self, action):\n",
        "        # 0: rock, 1: paper, 2: scissors\n",
        "        if (action - self.state) % 3 == 1:\n",
        "            reward = 1\n",
        "        elif (action - self.state) % 3 == 2:\n",
        "            reward = -1\n",
        "        else:\n",
        "            reward = 0\n",
        "\n",
        "        self.state = np.random.randint(3)\n",
        "        done = False\n",
        "        info = {}\n",
        "\n",
        "        return self.state, reward, done, info\n",
        "\n",
        "# Create environment\n",
        "env = RockPaperScissorsEnv()\n",
        "\n",
        "# Train using PPO algorithm\n",
        "model = PPO(\"MlpPolicy\", env, verbose=1)\n",
        "model.learn(total_timesteps=10000)\n",
        "\n",
        "# Test the trained model\n",
        "obs = env.reset()\n",
        "for _ in range(10):\n",
        "    action, _states = model.predict(obs)\n",
        "    obs, reward, done, info = env.step(action)\n",
        "    print(f\"Action: {action}, Reward: {reward}, Done: {done}, Info: {info}\")\n"
      ]
    },
    {
      "cell_type": "code",
      "execution_count": 19,
      "metadata": {
        "colab": {
          "base_uri": "https://localhost:8080/"
        },
        "id": "6257q6HyYt22",
        "outputId": "159af31c-eb4e-4050-a60e-aa8a3c6810ae"
      },
      "outputs": [
        {
          "output_type": "stream",
          "name": "stderr",
          "text": [
            "/usr/local/lib/python3.10/dist-packages/ipykernel/ipkernel.py:283: DeprecationWarning: `should_run_async` will not call `transform_cell` automatically in the future. Please pass the result to `transformed_cell` argument and any exception that happen during thetransform in `preprocessing_exc_tuple` in IPython 7.17 and above.\n",
            "  and should_run_async(code)\n"
          ]
        },
        {
          "output_type": "stream",
          "name": "stdout",
          "text": [
            "Collecting shimmy\n",
            "  Downloading Shimmy-1.3.0-py3-none-any.whl (37 kB)\n",
            "Requirement already satisfied: numpy>=1.18.0 in /usr/local/lib/python3.10/dist-packages (from shimmy) (1.25.2)\n",
            "Requirement already satisfied: gymnasium>=0.27.0 in /usr/local/lib/python3.10/dist-packages (from shimmy) (0.29.1)\n",
            "Requirement already satisfied: cloudpickle>=1.2.0 in /usr/local/lib/python3.10/dist-packages (from gymnasium>=0.27.0->shimmy) (2.2.1)\n",
            "Requirement already satisfied: typing-extensions>=4.3.0 in /usr/local/lib/python3.10/dist-packages (from gymnasium>=0.27.0->shimmy) (4.11.0)\n",
            "Requirement already satisfied: farama-notifications>=0.0.1 in /usr/local/lib/python3.10/dist-packages (from gymnasium>=0.27.0->shimmy) (0.0.4)\n",
            "Installing collected packages: shimmy\n",
            "Successfully installed shimmy-1.3.0\n"
          ]
        }
      ],
      "source": [
        "!pip install shimmy"
      ]
    },
    {
      "cell_type": "code",
      "execution_count": null,
      "metadata": {
        "id": "36OrCjMrYt23"
      },
      "outputs": [],
      "source": []
    }
  ],
  "metadata": {
    "kernelspec": {
      "display_name": "Python 3",
      "language": "python",
      "name": "python3"
    },
    "language_info": {
      "codemirror_mode": {
        "name": "ipython",
        "version": 3
      },
      "file_extension": ".py",
      "mimetype": "text/x-python",
      "name": "python",
      "nbconvert_exporter": "python",
      "pygments_lexer": "ipython3",
      "version": "3.8.3"
    },
    "colab": {
      "provenance": []
    }
  },
  "nbformat": 4,
  "nbformat_minor": 0
}